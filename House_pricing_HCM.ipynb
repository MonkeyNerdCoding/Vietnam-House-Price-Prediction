{
 "cells": [
  {
   "cell_type": "markdown",
   "id": "6e2b2531",
   "metadata": {},
   "source": [
    "### Read Dataset"
   ]
  },
  {
   "cell_type": "code",
   "execution_count": 91,
   "id": "1190667a",
   "metadata": {},
   "outputs": [],
   "source": [
    "import pandas as pd\n",
    "import numpy as np\n",
    "df = pd.read_csv('House_price/GiaChungCu_HCM_June2021_laydulieu_com.csv')"
   ]
  },
  {
   "cell_type": "code",
   "execution_count": 92,
   "id": "9cf20209",
   "metadata": {},
   "outputs": [
    {
     "name": "stdout",
     "output_type": "stream",
     "text": [
      "<class 'pandas.core.frame.DataFrame'>\n",
      "RangeIndex: 31951 entries, 0 to 31950\n",
      "Data columns (total 11 columns):\n",
      " #   Column              Non-Null Count  Dtype  \n",
      "---  ------              --------------  -----  \n",
      " 0   GIỐNG - LOẠI        31951 non-null  object \n",
      " 1   GIỐNG - NHU CẦU     31951 non-null  object \n",
      " 2   GIỐNG - TỈNH THÀNH  31951 non-null  object \n",
      " 3   QUẬN HUYỆN          31951 non-null  object \n",
      " 4   GIÁ - TRIỆU ĐỒNG    31374 non-null  float64\n",
      " 5   DIỆN TÍCH - M2      31005 non-null  float64\n",
      " 6   HƯỚNG               20164 non-null  object \n",
      " 7   SỐ TẦNG             0 non-null      float64\n",
      " 8   SỐ PHÒNG            29566 non-null  float64\n",
      " 9   SỐ TOILETS          29469 non-null  float64\n",
      " 10  GIẤY TỜ PHÁP LÝ     17569 non-null  object \n",
      "dtypes: float64(5), object(6)\n",
      "memory usage: 2.7+ MB\n"
     ]
    }
   ],
   "source": [
    "df.info()"
   ]
  },
  {
   "cell_type": "code",
   "execution_count": 93,
   "id": "117b34c6",
   "metadata": {},
   "outputs": [
    {
     "data": {
      "application/vnd.microsoft.datawrangler.viewer.v0+json": {
       "columns": [
        {
         "name": "GIẤY TỜ PHÁP LÝ",
         "rawType": "object",
         "type": "string"
        },
        {
         "name": "count",
         "rawType": "int64",
         "type": "integer"
        }
       ],
       "ref": "532d56c4-bdf2-4534-b2fa-1d790ad45124",
       "rows": [
        [
         "Đã có sổ",
         "8724"
        ],
        [
         "Đang chờ sổ",
         "8667"
        ],
        [
         "Giấy tờ khác",
         "178"
        ]
       ],
       "shape": {
        "columns": 1,
        "rows": 3
       }
      },
      "text/plain": [
       "GIẤY TỜ PHÁP LÝ\n",
       "Đã có sổ        8724\n",
       "Đang chờ sổ     8667\n",
       "Giấy tờ khác     178\n",
       "Name: count, dtype: int64"
      ]
     },
     "execution_count": 93,
     "metadata": {},
     "output_type": "execute_result"
    }
   ],
   "source": [
    "df['GIẤY TỜ PHÁP LÝ'].value_counts()"
   ]
  },
  {
   "cell_type": "code",
   "execution_count": 94,
   "id": "0e099a1e",
   "metadata": {},
   "outputs": [],
   "source": [
    "# df['GIÁ - TRIỆU ĐỒNG'] = pd.to_numeric(df['GIÁ - TRIỆU ĐỒNG'], errors='coerce')\n",
    "# df['DIỆN TÍCH - M2'] = pd.to_numeric(df['DIỆN TÍCH - M2'], errors='coerce')\n",
    "# df['SỐ PHÒNG'] = pd.to_numeric(df['SỐ PHÒNG'], errors='coerce')\n",
    "# df['SỐ TOILETS'] = pd.to_numeric(df['SỐ TOILETS'], errors='coerce')\n",
    "# df['SỐ TẦNG'] = pd.to_numeric(df['SỐ TẦNG'], errors='coerce')\n"
   ]
  },
  {
   "cell_type": "code",
   "execution_count": 95,
   "id": "cb74b0d3",
   "metadata": {},
   "outputs": [
    {
     "name": "stdout",
     "output_type": "stream",
     "text": [
      "<class 'pandas.core.frame.DataFrame'>\n",
      "RangeIndex: 31951 entries, 0 to 31950\n",
      "Data columns (total 11 columns):\n",
      " #   Column              Non-Null Count  Dtype  \n",
      "---  ------              --------------  -----  \n",
      " 0   GIỐNG - LOẠI        31951 non-null  object \n",
      " 1   GIỐNG - NHU CẦU     31951 non-null  object \n",
      " 2   GIỐNG - TỈNH THÀNH  31951 non-null  object \n",
      " 3   QUẬN HUYỆN          31951 non-null  object \n",
      " 4   GIÁ - TRIỆU ĐỒNG    31374 non-null  float64\n",
      " 5   DIỆN TÍCH - M2      31005 non-null  float64\n",
      " 6   HƯỚNG               20164 non-null  object \n",
      " 7   SỐ TẦNG             0 non-null      float64\n",
      " 8   SỐ PHÒNG            29566 non-null  float64\n",
      " 9   SỐ TOILETS          29469 non-null  float64\n",
      " 10  GIẤY TỜ PHÁP LÝ     17569 non-null  object \n",
      "dtypes: float64(5), object(6)\n",
      "memory usage: 2.7+ MB\n"
     ]
    }
   ],
   "source": [
    "df.info()\n"
   ]
  },
  {
   "cell_type": "code",
   "execution_count": 96,
   "id": "0efd205d",
   "metadata": {},
   "outputs": [
    {
     "data": {
      "application/vnd.microsoft.datawrangler.viewer.v0+json": {
       "columns": [
        {
         "name": "index",
         "rawType": "int64",
         "type": "integer"
        },
        {
         "name": "GIỐNG - LOẠI",
         "rawType": "object",
         "type": "string"
        },
        {
         "name": "GIỐNG - NHU CẦU",
         "rawType": "object",
         "type": "string"
        },
        {
         "name": "GIỐNG - TỈNH THÀNH",
         "rawType": "object",
         "type": "string"
        },
        {
         "name": "QUẬN HUYỆN",
         "rawType": "object",
         "type": "string"
        },
        {
         "name": "GIÁ - TRIỆU ĐỒNG",
         "rawType": "float64",
         "type": "float"
        },
        {
         "name": "DIỆN TÍCH - M2",
         "rawType": "float64",
         "type": "float"
        },
        {
         "name": "HƯỚNG",
         "rawType": "object",
         "type": "unknown"
        },
        {
         "name": "SỐ TẦNG",
         "rawType": "float64",
         "type": "float"
        },
        {
         "name": "SỐ PHÒNG",
         "rawType": "float64",
         "type": "float"
        },
        {
         "name": "SỐ TOILETS",
         "rawType": "float64",
         "type": "float"
        },
        {
         "name": "GIẤY TỜ PHÁP LÝ",
         "rawType": "object",
         "type": "unknown"
        }
       ],
       "ref": "98b48ad7-73c9-47ba-ba28-6f96681f41fc",
       "rows": [
        [
         "0",
         "Căn hộ, chung cư",
         "Cần bán",
         "Hồ Chí Minh",
         "Quận 9",
         "2650.0",
         "69.0",
         null,
         null,
         "2.0",
         "2.0",
         "Đã có sổ"
        ],
        [
         "1",
         "Căn hộ, chung cư",
         "Cần bán",
         "Hồ Chí Minh",
         "Quận Tân Bình",
         "3970.0",
         "74.1",
         null,
         null,
         "2.0",
         "2.0",
         "Đang chờ sổ"
        ],
        [
         "2",
         "Căn hộ, chung cư",
         "Cần bán",
         "Hồ Chí Minh",
         "Quận 9",
         "678.0",
         "46.5",
         "Tây",
         null,
         "1.0",
         "1.0",
         "Đang chờ sổ"
        ],
        [
         "3",
         "Căn hộ, chung cư",
         "Cần bán",
         "Hồ Chí Minh",
         "Quận Tân Phú",
         "2870.0",
         "65.0",
         null,
         null,
         "2.0",
         "2.0",
         null
        ],
        [
         "4",
         "Căn hộ, chung cư",
         "Cần bán",
         "Hồ Chí Minh",
         "Quận 9",
         "3000.0",
         "70.0",
         "Đông Bắc",
         null,
         "2.0",
         "2.0",
         "Đã có sổ"
        ]
       ],
       "shape": {
        "columns": 11,
        "rows": 5
       }
      },
      "text/html": [
       "<div>\n",
       "<style scoped>\n",
       "    .dataframe tbody tr th:only-of-type {\n",
       "        vertical-align: middle;\n",
       "    }\n",
       "\n",
       "    .dataframe tbody tr th {\n",
       "        vertical-align: top;\n",
       "    }\n",
       "\n",
       "    .dataframe thead th {\n",
       "        text-align: right;\n",
       "    }\n",
       "</style>\n",
       "<table border=\"1\" class=\"dataframe\">\n",
       "  <thead>\n",
       "    <tr style=\"text-align: right;\">\n",
       "      <th></th>\n",
       "      <th>GIỐNG - LOẠI</th>\n",
       "      <th>GIỐNG - NHU CẦU</th>\n",
       "      <th>GIỐNG - TỈNH THÀNH</th>\n",
       "      <th>QUẬN HUYỆN</th>\n",
       "      <th>GIÁ - TRIỆU ĐỒNG</th>\n",
       "      <th>DIỆN TÍCH - M2</th>\n",
       "      <th>HƯỚNG</th>\n",
       "      <th>SỐ TẦNG</th>\n",
       "      <th>SỐ PHÒNG</th>\n",
       "      <th>SỐ TOILETS</th>\n",
       "      <th>GIẤY TỜ PHÁP LÝ</th>\n",
       "    </tr>\n",
       "  </thead>\n",
       "  <tbody>\n",
       "    <tr>\n",
       "      <th>0</th>\n",
       "      <td>Căn hộ, chung cư</td>\n",
       "      <td>Cần bán</td>\n",
       "      <td>Hồ Chí Minh</td>\n",
       "      <td>Quận 9</td>\n",
       "      <td>2650.0</td>\n",
       "      <td>69.0</td>\n",
       "      <td>NaN</td>\n",
       "      <td>NaN</td>\n",
       "      <td>2.0</td>\n",
       "      <td>2.0</td>\n",
       "      <td>Đã có sổ</td>\n",
       "    </tr>\n",
       "    <tr>\n",
       "      <th>1</th>\n",
       "      <td>Căn hộ, chung cư</td>\n",
       "      <td>Cần bán</td>\n",
       "      <td>Hồ Chí Minh</td>\n",
       "      <td>Quận Tân Bình</td>\n",
       "      <td>3970.0</td>\n",
       "      <td>74.1</td>\n",
       "      <td>NaN</td>\n",
       "      <td>NaN</td>\n",
       "      <td>2.0</td>\n",
       "      <td>2.0</td>\n",
       "      <td>Đang chờ sổ</td>\n",
       "    </tr>\n",
       "    <tr>\n",
       "      <th>2</th>\n",
       "      <td>Căn hộ, chung cư</td>\n",
       "      <td>Cần bán</td>\n",
       "      <td>Hồ Chí Minh</td>\n",
       "      <td>Quận 9</td>\n",
       "      <td>678.0</td>\n",
       "      <td>46.5</td>\n",
       "      <td>Tây</td>\n",
       "      <td>NaN</td>\n",
       "      <td>1.0</td>\n",
       "      <td>1.0</td>\n",
       "      <td>Đang chờ sổ</td>\n",
       "    </tr>\n",
       "    <tr>\n",
       "      <th>3</th>\n",
       "      <td>Căn hộ, chung cư</td>\n",
       "      <td>Cần bán</td>\n",
       "      <td>Hồ Chí Minh</td>\n",
       "      <td>Quận Tân Phú</td>\n",
       "      <td>2870.0</td>\n",
       "      <td>65.0</td>\n",
       "      <td>NaN</td>\n",
       "      <td>NaN</td>\n",
       "      <td>2.0</td>\n",
       "      <td>2.0</td>\n",
       "      <td>NaN</td>\n",
       "    </tr>\n",
       "    <tr>\n",
       "      <th>4</th>\n",
       "      <td>Căn hộ, chung cư</td>\n",
       "      <td>Cần bán</td>\n",
       "      <td>Hồ Chí Minh</td>\n",
       "      <td>Quận 9</td>\n",
       "      <td>3000.0</td>\n",
       "      <td>70.0</td>\n",
       "      <td>Đông Bắc</td>\n",
       "      <td>NaN</td>\n",
       "      <td>2.0</td>\n",
       "      <td>2.0</td>\n",
       "      <td>Đã có sổ</td>\n",
       "    </tr>\n",
       "  </tbody>\n",
       "</table>\n",
       "</div>"
      ],
      "text/plain": [
       "       GIỐNG - LOẠI GIỐNG - NHU CẦU GIỐNG - TỈNH THÀNH     QUẬN HUYỆN  \\\n",
       "0  Căn hộ, chung cư         Cần bán        Hồ Chí Minh         Quận 9   \n",
       "1  Căn hộ, chung cư         Cần bán        Hồ Chí Minh  Quận Tân Bình   \n",
       "2  Căn hộ, chung cư         Cần bán        Hồ Chí Minh         Quận 9   \n",
       "3  Căn hộ, chung cư         Cần bán        Hồ Chí Minh   Quận Tân Phú   \n",
       "4  Căn hộ, chung cư         Cần bán        Hồ Chí Minh         Quận 9   \n",
       "\n",
       "   GIÁ - TRIỆU ĐỒNG  DIỆN TÍCH - M2     HƯỚNG  SỐ TẦNG  SỐ PHÒNG  SỐ TOILETS  \\\n",
       "0            2650.0            69.0       NaN      NaN       2.0         2.0   \n",
       "1            3970.0            74.1       NaN      NaN       2.0         2.0   \n",
       "2             678.0            46.5       Tây      NaN       1.0         1.0   \n",
       "3            2870.0            65.0       NaN      NaN       2.0         2.0   \n",
       "4            3000.0            70.0  Đông Bắc      NaN       2.0         2.0   \n",
       "\n",
       "  GIẤY TỜ PHÁP LÝ  \n",
       "0        Đã có sổ  \n",
       "1     Đang chờ sổ  \n",
       "2     Đang chờ sổ  \n",
       "3             NaN  \n",
       "4        Đã có sổ  "
      ]
     },
     "execution_count": 96,
     "metadata": {},
     "output_type": "execute_result"
    }
   ],
   "source": [
    "df.head(5)"
   ]
  },
  {
   "cell_type": "code",
   "execution_count": 97,
   "id": "78c5d70b",
   "metadata": {},
   "outputs": [
    {
     "data": {
      "application/vnd.microsoft.datawrangler.viewer.v0+json": {
       "columns": [
        {
         "name": "index",
         "rawType": "object",
         "type": "string"
        },
        {
         "name": "0",
         "rawType": "int64",
         "type": "integer"
        }
       ],
       "ref": "d257ed93-69de-4961-b316-6f97291a1921",
       "rows": [
        [
         "GIỐNG - LOẠI",
         "0"
        ],
        [
         "GIỐNG - NHU CẦU",
         "0"
        ],
        [
         "GIỐNG - TỈNH THÀNH",
         "0"
        ],
        [
         "QUẬN HUYỆN",
         "0"
        ],
        [
         "GIÁ - TRIỆU ĐỒNG",
         "577"
        ],
        [
         "DIỆN TÍCH - M2",
         "946"
        ],
        [
         "HƯỚNG",
         "11787"
        ],
        [
         "SỐ TẦNG",
         "31951"
        ],
        [
         "SỐ PHÒNG",
         "2385"
        ],
        [
         "SỐ TOILETS",
         "2482"
        ],
        [
         "GIẤY TỜ PHÁP LÝ",
         "14382"
        ]
       ],
       "shape": {
        "columns": 1,
        "rows": 11
       }
      },
      "text/plain": [
       "GIỐNG - LOẠI              0\n",
       "GIỐNG - NHU CẦU           0\n",
       "GIỐNG - TỈNH THÀNH        0\n",
       "QUẬN HUYỆN                0\n",
       "GIÁ - TRIỆU ĐỒNG        577\n",
       "DIỆN TÍCH - M2          946\n",
       "HƯỚNG                 11787\n",
       "SỐ TẦNG               31951\n",
       "SỐ PHÒNG               2385\n",
       "SỐ TOILETS             2482\n",
       "GIẤY TỜ PHÁP LÝ       14382\n",
       "dtype: int64"
      ]
     },
     "execution_count": 97,
     "metadata": {},
     "output_type": "execute_result"
    }
   ],
   "source": [
    "df.isnull().sum()"
   ]
  },
  {
   "cell_type": "code",
   "execution_count": 98,
   "id": "3d6b5088",
   "metadata": {},
   "outputs": [
    {
     "data": {
      "application/vnd.microsoft.datawrangler.viewer.v0+json": {
       "columns": [
        {
         "name": "index",
         "rawType": "object",
         "type": "string"
        },
        {
         "name": "0",
         "rawType": "float64",
         "type": "float"
        }
       ],
       "ref": "e71403a2-dbf9-467e-a1e2-437ba2282c1f",
       "rows": [
        [
         "GIỐNG - LOẠI",
         "0.0"
        ],
        [
         "GIỐNG - NHU CẦU",
         "0.0"
        ],
        [
         "GIỐNG - TỈNH THÀNH",
         "0.0"
        ],
        [
         "QUẬN HUYỆN",
         "0.0"
        ],
        [
         "GIÁ - TRIỆU ĐỒNG",
         "1.8058902694751338"
        ],
        [
         "DIỆN TÍCH - M2",
         "2.9607837000406874"
        ],
        [
         "HƯỚNG",
         "36.8908641357078"
        ],
        [
         "SỐ TẦNG",
         "100.0"
        ],
        [
         "SỐ PHÒNG",
         "7.464555099996869"
        ],
        [
         "SỐ TOILETS",
         "7.768144971988357"
        ],
        [
         "GIẤY TỜ PHÁP LÝ",
         "45.012675659603765"
        ]
       ],
       "shape": {
        "columns": 1,
        "rows": 11
       }
      },
      "text/plain": [
       "GIỐNG - LOẠI            0.000000\n",
       "GIỐNG - NHU CẦU         0.000000\n",
       "GIỐNG - TỈNH THÀNH      0.000000\n",
       "QUẬN HUYỆN              0.000000\n",
       "GIÁ - TRIỆU ĐỒNG        1.805890\n",
       "DIỆN TÍCH - M2          2.960784\n",
       "HƯỚNG                  36.890864\n",
       "SỐ TẦNG               100.000000\n",
       "SỐ PHÒNG                7.464555\n",
       "SỐ TOILETS              7.768145\n",
       "GIẤY TỜ PHÁP LÝ        45.012676\n",
       "dtype: float64"
      ]
     },
     "execution_count": 98,
     "metadata": {},
     "output_type": "execute_result"
    }
   ],
   "source": [
    "Percentage_null = df.isnull().sum()/len(df) * 100\n",
    "Percentage_null\n"
   ]
  },
  {
   "cell_type": "markdown",
   "id": "706df3bc",
   "metadata": {},
   "source": [
    "### Data Cleaning"
   ]
  },
  {
   "cell_type": "code",
   "execution_count": 99,
   "metadata": {},
   "outputs": [],
   "source": [
    "df.rename(columns={\n",
    "    'GIỐNG - LOẠI': 'Property Type',\n",
    "    'GIỐNG - NHU CẦU': 'Transaction Type',\n",
    "    'GIỐNG - TỈNH THÀNH': 'City',\n",
    "    'QUẬN HUYỆN': 'District',\n",
    "    'GIÁ - TRIỆU ĐỒNG': 'Price (Million VND)',\n",
    "    'DIỆN TÍCH - M2': 'Area (m2)',\n",
    "    'HƯỚNG': 'Direction',\n",
    "    'SỐ TẦNG': 'Floors',\n",
    "    'SỐ PHÒNG': 'Rooms',\n",
    "    'SỐ TOILETS': 'Toilets',\n",
    "    'GIẤY TỜ PHÁP LÝ': 'Legal Papers'\n",
    "}, inplace=True)\n"
   ]
  },
  {
   "cell_type": "code",
   "execution_count": 100,
   "metadata": {},
   "outputs": [
    {
     "data": {
      "application/vnd.microsoft.datawrangler.viewer.v0+json": {
       "columns": [
        {
         "name": "index",
         "rawType": "int64",
         "type": "integer"
        },
        {
         "name": "Property Type",
         "rawType": "object",
         "type": "string"
        },
        {
         "name": "Transaction Type",
         "rawType": "object",
         "type": "string"
        },
        {
         "name": "City",
         "rawType": "object",
         "type": "string"
        },
        {
         "name": "District",
         "rawType": "object",
         "type": "string"
        },
        {
         "name": "Price (Million VND)",
         "rawType": "float64",
         "type": "float"
        },
        {
         "name": "Area (m2)",
         "rawType": "float64",
         "type": "float"
        },
        {
         "name": "Direction",
         "rawType": "object",
         "type": "unknown"
        },
        {
         "name": "Floors",
         "rawType": "float64",
         "type": "float"
        },
        {
         "name": "Rooms",
         "rawType": "float64",
         "type": "float"
        },
        {
         "name": "Toilets",
         "rawType": "float64",
         "type": "float"
        },
        {
         "name": "Legal Papers",
         "rawType": "object",
         "type": "unknown"
        }
       ],
       "ref": "b2feaeb1-5c37-4ab0-b00f-f458ec21afb5",
       "rows": [
        [
         "0",
         "Căn hộ, chung cư",
         "Cần bán",
         "Hồ Chí Minh",
         "Quận 9",
         "2650.0",
         "69.0",
         null,
         null,
         "2.0",
         "2.0",
         "Đã có sổ"
        ],
        [
         "1",
         "Căn hộ, chung cư",
         "Cần bán",
         "Hồ Chí Minh",
         "Quận Tân Bình",
         "3970.0",
         "74.1",
         null,
         null,
         "2.0",
         "2.0",
         "Đang chờ sổ"
        ],
        [
         "2",
         "Căn hộ, chung cư",
         "Cần bán",
         "Hồ Chí Minh",
         "Quận 9",
         "678.0",
         "46.5",
         "Tây",
         null,
         "1.0",
         "1.0",
         "Đang chờ sổ"
        ],
        [
         "3",
         "Căn hộ, chung cư",
         "Cần bán",
         "Hồ Chí Minh",
         "Quận Tân Phú",
         "2870.0",
         "65.0",
         null,
         null,
         "2.0",
         "2.0",
         null
        ],
        [
         "4",
         "Căn hộ, chung cư",
         "Cần bán",
         "Hồ Chí Minh",
         "Quận 9",
         "3000.0",
         "70.0",
         "Đông Bắc",
         null,
         "2.0",
         "2.0",
         "Đã có sổ"
        ]
       ],
       "shape": {
        "columns": 11,
        "rows": 5
       }
      },
      "text/html": [
       "<div>\n",
       "<style scoped>\n",
       "    .dataframe tbody tr th:only-of-type {\n",
       "        vertical-align: middle;\n",
       "    }\n",
       "\n",
       "    .dataframe tbody tr th {\n",
       "        vertical-align: top;\n",
       "    }\n",
       "\n",
       "    .dataframe thead th {\n",
       "        text-align: right;\n",
       "    }\n",
       "</style>\n",
       "<table border=\"1\" class=\"dataframe\">\n",
       "  <thead>\n",
       "    <tr style=\"text-align: right;\">\n",
       "      <th></th>\n",
       "      <th>Property Type</th>\n",
       "      <th>Transaction Type</th>\n",
       "      <th>City</th>\n",
       "      <th>District</th>\n",
       "      <th>Price (Million VND)</th>\n",
       "      <th>Area (m2)</th>\n",
       "      <th>Direction</th>\n",
       "      <th>Floors</th>\n",
       "      <th>Rooms</th>\n",
       "      <th>Toilets</th>\n",
       "      <th>Legal Papers</th>\n",
       "    </tr>\n",
       "  </thead>\n",
       "  <tbody>\n",
       "    <tr>\n",
       "      <th>0</th>\n",
       "      <td>Căn hộ, chung cư</td>\n",
       "      <td>Cần bán</td>\n",
       "      <td>Hồ Chí Minh</td>\n",
       "      <td>Quận 9</td>\n",
       "      <td>2650.0</td>\n",
       "      <td>69.0</td>\n",
       "      <td>NaN</td>\n",
       "      <td>NaN</td>\n",
       "      <td>2.0</td>\n",
       "      <td>2.0</td>\n",
       "      <td>Đã có sổ</td>\n",
       "    </tr>\n",
       "    <tr>\n",
       "      <th>1</th>\n",
       "      <td>Căn hộ, chung cư</td>\n",
       "      <td>Cần bán</td>\n",
       "      <td>Hồ Chí Minh</td>\n",
       "      <td>Quận Tân Bình</td>\n",
       "      <td>3970.0</td>\n",
       "      <td>74.1</td>\n",
       "      <td>NaN</td>\n",
       "      <td>NaN</td>\n",
       "      <td>2.0</td>\n",
       "      <td>2.0</td>\n",
       "      <td>Đang chờ sổ</td>\n",
       "    </tr>\n",
       "    <tr>\n",
       "      <th>2</th>\n",
       "      <td>Căn hộ, chung cư</td>\n",
       "      <td>Cần bán</td>\n",
       "      <td>Hồ Chí Minh</td>\n",
       "      <td>Quận 9</td>\n",
       "      <td>678.0</td>\n",
       "      <td>46.5</td>\n",
       "      <td>Tây</td>\n",
       "      <td>NaN</td>\n",
       "      <td>1.0</td>\n",
       "      <td>1.0</td>\n",
       "      <td>Đang chờ sổ</td>\n",
       "    </tr>\n",
       "    <tr>\n",
       "      <th>3</th>\n",
       "      <td>Căn hộ, chung cư</td>\n",
       "      <td>Cần bán</td>\n",
       "      <td>Hồ Chí Minh</td>\n",
       "      <td>Quận Tân Phú</td>\n",
       "      <td>2870.0</td>\n",
       "      <td>65.0</td>\n",
       "      <td>NaN</td>\n",
       "      <td>NaN</td>\n",
       "      <td>2.0</td>\n",
       "      <td>2.0</td>\n",
       "      <td>NaN</td>\n",
       "    </tr>\n",
       "    <tr>\n",
       "      <th>4</th>\n",
       "      <td>Căn hộ, chung cư</td>\n",
       "      <td>Cần bán</td>\n",
       "      <td>Hồ Chí Minh</td>\n",
       "      <td>Quận 9</td>\n",
       "      <td>3000.0</td>\n",
       "      <td>70.0</td>\n",
       "      <td>Đông Bắc</td>\n",
       "      <td>NaN</td>\n",
       "      <td>2.0</td>\n",
       "      <td>2.0</td>\n",
       "      <td>Đã có sổ</td>\n",
       "    </tr>\n",
       "  </tbody>\n",
       "</table>\n",
       "</div>"
      ],
      "text/plain": [
       "      Property Type Transaction Type         City       District  \\\n",
       "0  Căn hộ, chung cư          Cần bán  Hồ Chí Minh         Quận 9   \n",
       "1  Căn hộ, chung cư          Cần bán  Hồ Chí Minh  Quận Tân Bình   \n",
       "2  Căn hộ, chung cư          Cần bán  Hồ Chí Minh         Quận 9   \n",
       "3  Căn hộ, chung cư          Cần bán  Hồ Chí Minh   Quận Tân Phú   \n",
       "4  Căn hộ, chung cư          Cần bán  Hồ Chí Minh         Quận 9   \n",
       "\n",
       "   Price (Million VND)  Area (m2) Direction  Floors  Rooms  Toilets  \\\n",
       "0               2650.0       69.0       NaN     NaN    2.0      2.0   \n",
       "1               3970.0       74.1       NaN     NaN    2.0      2.0   \n",
       "2                678.0       46.5       Tây     NaN    1.0      1.0   \n",
       "3               2870.0       65.0       NaN     NaN    2.0      2.0   \n",
       "4               3000.0       70.0  Đông Bắc     NaN    2.0      2.0   \n",
       "\n",
       "  Legal Papers  \n",
       "0     Đã có sổ  \n",
       "1  Đang chờ sổ  \n",
       "2  Đang chờ sổ  \n",
       "3          NaN  \n",
       "4     Đã có sổ  "
      ]
     },
     "execution_count": 100,
     "metadata": {},
     "output_type": "execute_result"
    }
   ],
   "source": [
    "df.head(5)"
   ]
  },
  {
   "cell_type": "code",
   "execution_count": 101,
   "id": "500f21ef",
   "metadata": {},
   "outputs": [
    {
     "data": {
      "application/vnd.microsoft.datawrangler.viewer.v0+json": {
       "columns": [
        {
         "name": "Price (Million VND)",
         "rawType": "float64",
         "type": "float"
        },
        {
         "name": "count",
         "rawType": "int64",
         "type": "integer"
        }
       ],
       "ref": "8b2132b8-093d-4830-b034-9f757a82992d",
       "rows": [
        [
         "2100.0",
         "44"
        ],
        [
         "2200.0",
         "42"
        ],
        [
         "2300.0",
         "41"
        ],
        [
         "2500.0",
         "36"
        ],
        [
         "2000.0",
         "35"
        ],
        [
         "2600.0",
         "33"
        ],
        [
         "1500.0",
         "30"
        ],
        [
         "1800.0",
         "30"
        ],
        [
         "3500.0",
         "29"
        ],
        [
         "2400.0",
         "29"
        ],
        [
         "2350.0",
         "29"
        ],
        [
         "2900.0",
         "28"
        ],
        [
         "3300.0",
         "27"
        ],
        [
         "2450.0",
         "26"
        ],
        [
         "1900.0",
         "26"
        ],
        [
         "1750.0",
         "26"
        ],
        [
         "2800.0",
         "25"
        ],
        [
         "2650.0",
         "24"
        ],
        [
         "2250.0",
         "23"
        ],
        [
         "3200.0",
         "23"
        ],
        [
         "4000.0",
         "22"
        ],
        [
         "1700.0",
         "22"
        ],
        [
         "1950.0",
         "22"
        ],
        [
         "1550.0",
         "22"
        ],
        [
         "1600.0",
         "22"
        ],
        [
         "1650.0",
         "20"
        ],
        [
         "2550.0",
         "20"
        ],
        [
         "1400.0",
         "19"
        ],
        [
         "3100.0",
         "19"
        ],
        [
         "2150.0",
         "19"
        ],
        [
         "1850.0",
         "18"
        ],
        [
         "950.0",
         "17"
        ],
        [
         "3000.0",
         "17"
        ],
        [
         "4300.0",
         "16"
        ],
        [
         "2700.0",
         "16"
        ],
        [
         "1100.0",
         "15"
        ],
        [
         "2050.0",
         "15"
        ],
        [
         "1450.0",
         "14"
        ],
        [
         "3900.0",
         "14"
        ],
        [
         "1300.0",
         "14"
        ],
        [
         "4200.0",
         "13"
        ],
        [
         "2750.0",
         "13"
        ],
        [
         "3450.0",
         "13"
        ],
        [
         "3700.0",
         "12"
        ],
        [
         "2850.0",
         "12"
        ],
        [
         "1780.0",
         "11"
        ],
        [
         "5500.0",
         "11"
        ],
        [
         "5200.0",
         "10"
        ],
        [
         "1200.0",
         "10"
        ],
        [
         "2950.0",
         "10"
        ]
       ],
       "shape": {
        "columns": 1,
        "rows": 26337
       }
      },
      "text/plain": [
       "Price (Million VND)\n",
       "2100.0     44\n",
       "2200.0     42\n",
       "2300.0     41\n",
       "2500.0     36\n",
       "2000.0     35\n",
       "           ..\n",
       "4207.0      1\n",
       "11947.7     1\n",
       "6245.7      1\n",
       "9380.1      1\n",
       "12915.4     1\n",
       "Name: count, Length: 26337, dtype: int64"
      ]
     },
     "execution_count": 101,
     "metadata": {},
     "output_type": "execute_result"
    }
   ],
   "source": [
    "df['Price (Million VND)'].value_counts()"
   ]
  },
  {
   "cell_type": "code",
   "execution_count": 102,
   "metadata": {},
   "outputs": [],
   "source": [
    "df = df[(df['Price (Million VND)'] >= 1300.0) & (df['Price (Million VND)'] < 21000.0)]\n"
   ]
  },
  {
   "cell_type": "code",
   "execution_count": 103,
   "id": "99e39fbb",
   "metadata": {},
   "outputs": [
    {
     "data": {
      "application/vnd.microsoft.datawrangler.viewer.v0+json": {
       "columns": [
        {
         "name": "Price (Million VND)",
         "rawType": "float64",
         "type": "float"
        },
        {
         "name": "count",
         "rawType": "int64",
         "type": "integer"
        }
       ],
       "ref": "5439214e-fd53-4cfc-9f42-8f54df7b46f6",
       "rows": [
        [
         "2100.0",
         "44"
        ],
        [
         "2200.0",
         "42"
        ],
        [
         "2300.0",
         "41"
        ],
        [
         "2500.0",
         "36"
        ],
        [
         "2000.0",
         "35"
        ],
        [
         "2600.0",
         "33"
        ],
        [
         "1800.0",
         "30"
        ],
        [
         "1500.0",
         "30"
        ],
        [
         "3500.0",
         "29"
        ],
        [
         "2350.0",
         "29"
        ],
        [
         "2400.0",
         "29"
        ],
        [
         "2900.0",
         "28"
        ],
        [
         "3300.0",
         "27"
        ],
        [
         "2450.0",
         "26"
        ],
        [
         "1900.0",
         "26"
        ],
        [
         "1750.0",
         "26"
        ],
        [
         "2800.0",
         "25"
        ],
        [
         "2650.0",
         "24"
        ],
        [
         "3200.0",
         "23"
        ],
        [
         "2250.0",
         "23"
        ],
        [
         "4000.0",
         "22"
        ],
        [
         "1600.0",
         "22"
        ],
        [
         "1550.0",
         "22"
        ],
        [
         "1700.0",
         "22"
        ],
        [
         "1950.0",
         "22"
        ],
        [
         "1650.0",
         "20"
        ],
        [
         "2550.0",
         "20"
        ],
        [
         "2150.0",
         "19"
        ],
        [
         "3100.0",
         "19"
        ],
        [
         "1400.0",
         "19"
        ],
        [
         "1850.0",
         "18"
        ],
        [
         "3000.0",
         "17"
        ],
        [
         "4300.0",
         "16"
        ],
        [
         "2700.0",
         "16"
        ],
        [
         "2050.0",
         "15"
        ],
        [
         "1450.0",
         "14"
        ],
        [
         "3900.0",
         "14"
        ],
        [
         "1300.0",
         "14"
        ],
        [
         "3450.0",
         "13"
        ],
        [
         "4200.0",
         "13"
        ],
        [
         "2750.0",
         "13"
        ],
        [
         "3700.0",
         "12"
        ],
        [
         "2850.0",
         "12"
        ],
        [
         "5500.0",
         "11"
        ],
        [
         "1780.0",
         "11"
        ],
        [
         "5200.0",
         "10"
        ],
        [
         "4700.0",
         "10"
        ],
        [
         "1680.0",
         "10"
        ],
        [
         "3600.0",
         "10"
        ],
        [
         "4500.0",
         "10"
        ]
       ],
       "shape": {
        "columns": 1,
        "rows": 26222
       }
      },
      "text/plain": [
       "Price (Million VND)\n",
       "2100.0    44\n",
       "2200.0    42\n",
       "2300.0    41\n",
       "2500.0    36\n",
       "2000.0    35\n",
       "          ..\n",
       "6293.0     1\n",
       "6559.2     1\n",
       "5056.1     1\n",
       "9238.3     1\n",
       "2129.3     1\n",
       "Name: count, Length: 26222, dtype: int64"
      ]
     },
     "execution_count": 103,
     "metadata": {},
     "output_type": "execute_result"
    }
   ],
   "source": [
    "df['Price (Million VND)'].value_counts()"
   ]
  },
  {
   "cell_type": "code",
   "execution_count": 104,
   "metadata": {},
   "outputs": [],
   "source": [
    "# Calculate the quantiles -- Tính Q1 và Q3\n",
    "q1 = df['Price (Million VND)'].quantile(0.25) # Tính Q1\n",
    "q3 = df['Price (Million VND)'].quantile(0.75) # Tính Q3\n",
    "\n",
    "# Calculate the interquantile range\n",
    "iqr = q3 - q1\n",
    "\n",
    "# Calculate the whisker\n",
    "upper = q3 + 1.5*iqr\n",
    "lower = q1 - 1.5*iqr"
   ]
  },
  {
   "cell_type": "code",
   "execution_count": 105,
   "metadata": {},
   "outputs": [
    {
     "name": "stdout",
     "output_type": "stream",
     "text": [
      "16734.9 -2335.500000000001\n"
     ]
    }
   ],
   "source": [
    "print(upper, lower)"
   ]
  },
  {
   "cell_type": "code",
   "execution_count": 106,
   "metadata": {},
   "outputs": [
    {
     "data": {
      "image/png": "[encoded data removed]",
      "text/plain": [
       "<Figure size 1000x500 with 1 Axes>"
      ]
     },
     "metadata": {},
     "output_type": "display_data"
    }
   ],
   "source": [
    "\n",
    "import numpy as np\n",
    "import matplotlib.pyplot as plt\n",
    "import seaborn as sns\n",
    "\n",
    "# Vẽ boxplot\n",
    "plt.figure(figsize=(10, 5))\n",
    "sns.boxplot(x=df['Price (Million VND)'], color='skyblue')\n",
    "\n",
    "# Vẽ các đường tham chiếu Q1, Q3, upper, lower\n",
    "plt.axvline(q1, color='orange', linestyle='--', label=f'Q1 = {q1:.0f}')\n",
    "plt.axvline(q3, color='orange', linestyle='--', label=f'Q3 = {q3:.0f}')\n",
    "plt.axvline(lower, color='red', linestyle='--', label=f'Lower = {lower:.0f}')\n",
    "plt.axvline(upper, color='red', linestyle='--', label=f'Upper = {upper:.0f}')\n",
    "\n",
    "plt.title('Boxplot - Price (Million VND)', fontsize=14)\n",
    "plt.xlabel('Price (Million VND)')\n",
    "plt.legend()\n",
    "plt.show()\n"
   ]
  },
  {
   "cell_type": "code",
   "execution_count": 107,
   "metadata": {},
   "outputs": [
    {
     "name": "stderr",
     "output_type": "stream",
     "text": [
      "C:\\Users\\ADmin\\AppData\\Local\\Temp\\ipykernel_7536\\2096081638.py:1: FutureWarning: A value is trying to be set on a copy of a DataFrame or Series through chained assignment using an inplace method.\n",
      "The behavior will change in pandas 3.0. This inplace method will never work because the intermediate object on which we are setting values always behaves as a copy.\n",
      "\n",
      "For example, when doing 'df[col].method(value, inplace=True)', try using 'df.method({col: value}, inplace=True)' or df[col] = df[col].method(value) instead, to perform the operation inplace on the original object.\n",
      "\n",
      "\n",
      "  df['Price (Million VND)'].fillna(df['Price (Million VND)'].median(), inplace=True)\n"
     ]
    }
   ],
   "source": [
    "df['Price (Million VND)'].fillna(df['Price (Million VND)'].median(), inplace=True)"
   ]
  },
  {
   "cell_type": "code",
   "execution_count": 108,
   "metadata": {},
   "outputs": [
    {
     "name": "stdout",
     "output_type": "stream",
     "text": [
      "0\n"
     ]
    }
   ],
   "source": [
    "print(df['Price (Million VND)'].isnull().sum())"
   ]
  },
  {
   "cell_type": "code",
   "execution_count": 109,
   "metadata": {},
   "outputs": [
    {
     "data": {
      "text/plain": [
       "np.float64(1300.0)"
      ]
     },
     "execution_count": 109,
     "metadata": {},
     "output_type": "execute_result"
    }
   ],
   "source": [
    "# df['Price (Million VND)'].max()\n",
    "df['Price (Million VND)'].min()\n"
   ]
  },
  {
   "cell_type": "code",
   "execution_count": 110,
   "id": "f83d3c9a",
   "metadata": {},
   "outputs": [
    {
     "data": {
      "application/vnd.microsoft.datawrangler.viewer.v0+json": {
       "columns": [
        {
         "name": "index",
         "rawType": "object",
         "type": "string"
        },
        {
         "name": "0",
         "rawType": "int64",
         "type": "integer"
        }
       ],
       "ref": "8df821a4-8632-48d5-b4b7-b6e9a007b954",
       "rows": [
        [
         "Property Type",
         "0"
        ],
        [
         "Transaction Type",
         "0"
        ],
        [
         "City",
         "0"
        ],
        [
         "District",
         "0"
        ],
        [
         "Price (Million VND)",
         "0"
        ],
        [
         "Area (m2)",
         "931"
        ],
        [
         "Direction",
         "11466"
        ],
        [
         "Floors",
         "31155"
        ],
        [
         "Rooms",
         "2328"
        ],
        [
         "Toilets",
         "2419"
        ],
        [
         "Legal Papers",
         "14075"
        ]
       ],
       "shape": {
        "columns": 1,
        "rows": 11
       }
      },
      "text/plain": [
       "Property Type              0\n",
       "Transaction Type           0\n",
       "City                       0\n",
       "District                   0\n",
       "Price (Million VND)        0\n",
       "Area (m2)                931\n",
       "Direction              11466\n",
       "Floors                 31155\n",
       "Rooms                   2328\n",
       "Toilets                 2419\n",
       "Legal Papers           14075\n",
       "dtype: int64"
      ]
     },
     "execution_count": 110,
     "metadata": {},
     "output_type": "execute_result"
    }
   ],
   "source": [
    "df.isnull().sum()"
   ]
  },
  {
   "cell_type": "code",
   "execution_count": 111,
   "metadata": {},
   "outputs": [
    {
     "name": "stderr",
     "output_type": "stream",
     "text": [
      "C:\\Users\\ADmin\\AppData\\Local\\Temp\\ipykernel_7536\\85523567.py:1: FutureWarning: A value is trying to be set on a copy of a DataFrame or Series through chained assignment using an inplace method.\n",
      "The behavior will change in pandas 3.0. This inplace method will never work because the intermediate object on which we are setting values always behaves as a copy.\n",
      "\n",
      "For example, when doing 'df[col].method(value, inplace=True)', try using 'df.method({col: value}, inplace=True)' or df[col] = df[col].method(value) instead, to perform the operation inplace on the original object.\n",
      "\n",
      "\n",
      "  df['Area (m2)'].fillna(df['Area (m2)'].median(), inplace=True)\n"
     ]
    }
   ],
   "source": [
    "df['Area (m2)'].fillna(df['Area (m2)'].median(), inplace=True)"
   ]
  },
  {
   "cell_type": "code",
   "execution_count": 112,
   "id": "2a854b15",
   "metadata": {},
   "outputs": [
    {
     "name": "stderr",
     "output_type": "stream",
     "text": [
      "C:\\Users\\ADmin\\AppData\\Local\\Temp\\ipykernel_7536\\1653612732.py:1: FutureWarning: A value is trying to be set on a copy of a DataFrame or Series through chained assignment using an inplace method.\n",
      "The behavior will change in pandas 3.0. This inplace method will never work because the intermediate object on which we are setting values always behaves as a copy.\n",
      "\n",
      "For example, when doing 'df[col].method(value, inplace=True)', try using 'df.method({col: value}, inplace=True)' or df[col] = df[col].method(value) instead, to perform the operation inplace on the original object.\n",
      "\n",
      "\n",
      "  df['Rooms'].fillna(df['Rooms'].mode()[0], inplace=True)\n"
     ]
    }
   ],
   "source": [
    "df['Rooms'].fillna(df['Rooms'].mode()[0], inplace=True)"
   ]
  },
  {
   "cell_type": "code",
   "execution_count": 113,
   "id": "38d5c887",
   "metadata": {},
   "outputs": [
    {
     "data": {
      "application/vnd.microsoft.datawrangler.viewer.v0+json": {
       "columns": [
        {
         "name": "Rooms",
         "rawType": "float64",
         "type": "float"
        },
        {
         "name": "count",
         "rawType": "int64",
         "type": "integer"
        }
       ],
       "ref": "52d5b9d4-48df-42d9-b70e-ad950c8b9660",
       "rows": [
        [
         "2.0",
         "12609"
        ],
        [
         "3.0",
         "8679"
        ],
        [
         "1.0",
         "6002"
        ],
        [
         "4.0",
         "3855"
        ],
        [
         "5.0",
         "7"
        ],
        [
         "7.0",
         "2"
        ],
        [
         "6.0",
         "1"
        ]
       ],
       "shape": {
        "columns": 1,
        "rows": 7
       }
      },
      "text/plain": [
       "Rooms\n",
       "2.0    12609\n",
       "3.0     8679\n",
       "1.0     6002\n",
       "4.0     3855\n",
       "5.0        7\n",
       "7.0        2\n",
       "6.0        1\n",
       "Name: count, dtype: int64"
      ]
     },
     "execution_count": 113,
     "metadata": {},
     "output_type": "execute_result"
    }
   ],
   "source": [
    "df['Rooms'].value_counts()"
   ]
  },
  {
   "cell_type": "code",
   "execution_count": 114,
   "id": "084b7b66",
   "metadata": {},
   "outputs": [],
   "source": [
    "df.drop(df[(df['Rooms'] == 7) & (df['Area (m2)'] == 68.0)].index, inplace=True)"
   ]
  },
  {
   "cell_type": "code",
   "execution_count": 115,
   "id": "695b977f",
   "metadata": {},
   "outputs": [
    {
     "data": {
      "application/vnd.microsoft.datawrangler.viewer.v0+json": {
       "columns": [
        {
         "name": "index",
         "rawType": "int64",
         "type": "integer"
        },
        {
         "name": "Property Type",
         "rawType": "object",
         "type": "string"
        },
        {
         "name": "Transaction Type",
         "rawType": "object",
         "type": "string"
        },
        {
         "name": "City",
         "rawType": "object",
         "type": "string"
        },
        {
         "name": "District",
         "rawType": "object",
         "type": "string"
        },
        {
         "name": "Price (Million VND)",
         "rawType": "float64",
         "type": "float"
        },
        {
         "name": "Area (m2)",
         "rawType": "float64",
         "type": "float"
        },
        {
         "name": "Direction",
         "rawType": "object",
         "type": "string"
        },
        {
         "name": "Floors",
         "rawType": "float64",
         "type": "float"
        },
        {
         "name": "Rooms",
         "rawType": "float64",
         "type": "float"
        },
        {
         "name": "Toilets",
         "rawType": "float64",
         "type": "float"
        },
        {
         "name": "Legal Papers",
         "rawType": "object",
         "type": "string"
        }
       ],
       "ref": "15c44d28-1cca-496b-a2cf-c1281134aa10",
       "rows": [],
       "shape": {
        "columns": 11,
        "rows": 0
       }
      },
      "text/html": [
       "<div>\n",
       "<style scoped>\n",
       "    .dataframe tbody tr th:only-of-type {\n",
       "        vertical-align: middle;\n",
       "    }\n",
       "\n",
       "    .dataframe tbody tr th {\n",
       "        vertical-align: top;\n",
       "    }\n",
       "\n",
       "    .dataframe thead th {\n",
       "        text-align: right;\n",
       "    }\n",
       "</style>\n",
       "<table border=\"1\" class=\"dataframe\">\n",
       "  <thead>\n",
       "    <tr style=\"text-align: right;\">\n",
       "      <th></th>\n",
       "      <th>Property Type</th>\n",
       "      <th>Transaction Type</th>\n",
       "      <th>City</th>\n",
       "      <th>District</th>\n",
       "      <th>Price (Million VND)</th>\n",
       "      <th>Area (m2)</th>\n",
       "      <th>Direction</th>\n",
       "      <th>Floors</th>\n",
       "      <th>Rooms</th>\n",
       "      <th>Toilets</th>\n",
       "      <th>Legal Papers</th>\n",
       "    </tr>\n",
       "  </thead>\n",
       "  <tbody>\n",
       "  </tbody>\n",
       "</table>\n",
       "</div>"
      ],
      "text/plain": [
       "Empty DataFrame\n",
       "Columns: [Property Type, Transaction Type, City, District, Price (Million VND), Area (m2), Direction, Floors, Rooms, Toilets, Legal Papers]\n",
       "Index: []"
      ]
     },
     "execution_count": 115,
     "metadata": {},
     "output_type": "execute_result"
    }
   ],
   "source": [
    "df[(df['Rooms'] == 7) & (df['Area (m2)'] == 68.0)]"
   ]
  },
  {
   "cell_type": "code",
   "execution_count": 116,
   "id": "3cbef170",
   "metadata": {},
   "outputs": [
    {
     "data": {
      "application/vnd.microsoft.datawrangler.viewer.v0+json": {
       "columns": [
        {
         "name": "Rooms",
         "rawType": "float64",
         "type": "float"
        },
        {
         "name": "count",
         "rawType": "int64",
         "type": "integer"
        }
       ],
       "ref": "2b090708-ab62-4a41-9998-b0c115d51eaf",
       "rows": [
        [
         "2.0",
         "12609"
        ],
        [
         "3.0",
         "8679"
        ],
        [
         "1.0",
         "6002"
        ],
        [
         "4.0",
         "3855"
        ],
        [
         "5.0",
         "7"
        ],
        [
         "6.0",
         "1"
        ],
        [
         "7.0",
         "1"
        ]
       ],
       "shape": {
        "columns": 1,
        "rows": 7
       }
      },
      "text/plain": [
       "Rooms\n",
       "2.0    12609\n",
       "3.0     8679\n",
       "1.0     6002\n",
       "4.0     3855\n",
       "5.0        7\n",
       "6.0        1\n",
       "7.0        1\n",
       "Name: count, dtype: int64"
      ]
     },
     "execution_count": 116,
     "metadata": {},
     "output_type": "execute_result"
    }
   ],
   "source": [
    "df['Rooms'].value_counts()\n"
   ]
  },
  {
   "cell_type": "code",
   "execution_count": 117,
   "id": "d827146d",
   "metadata": {},
   "outputs": [
    {
     "data": {
      "application/vnd.microsoft.datawrangler.viewer.v0+json": {
       "columns": [
        {
         "name": "index",
         "rawType": "int64",
         "type": "integer"
        },
        {
         "name": "Property Type",
         "rawType": "object",
         "type": "string"
        },
        {
         "name": "Transaction Type",
         "rawType": "object",
         "type": "string"
        },
        {
         "name": "City",
         "rawType": "object",
         "type": "string"
        },
        {
         "name": "District",
         "rawType": "object",
         "type": "string"
        },
        {
         "name": "Price (Million VND)",
         "rawType": "float64",
         "type": "float"
        },
        {
         "name": "Area (m2)",
         "rawType": "float64",
         "type": "float"
        },
        {
         "name": "Direction",
         "rawType": "object",
         "type": "unknown"
        },
        {
         "name": "Floors",
         "rawType": "float64",
         "type": "float"
        },
        {
         "name": "Rooms",
         "rawType": "float64",
         "type": "float"
        },
        {
         "name": "Toilets",
         "rawType": "float64",
         "type": "float"
        },
        {
         "name": "Legal Papers",
         "rawType": "object",
         "type": "string"
        }
       ],
       "ref": "f751b3d4-48b2-4cbb-9f20-82a77a959091",
       "rows": [
        [
         "138",
         "Căn hộ, chung cư",
         "Cần bán",
         "Hồ Chí Minh",
         "Huyện Nhà Bè",
         "4400.0",
         "236.0",
         null,
         null,
         "6.0",
         "4.0",
         "Đã có sổ"
        ]
       ],
       "shape": {
        "columns": 11,
        "rows": 1
       }
      },
      "text/html": [
       "<div>\n",
       "<style scoped>\n",
       "    .dataframe tbody tr th:only-of-type {\n",
       "        vertical-align: middle;\n",
       "    }\n",
       "\n",
       "    .dataframe tbody tr th {\n",
       "        vertical-align: top;\n",
       "    }\n",
       "\n",
       "    .dataframe thead th {\n",
       "        text-align: right;\n",
       "    }\n",
       "</style>\n",
       "<table border=\"1\" class=\"dataframe\">\n",
       "  <thead>\n",
       "    <tr style=\"text-align: right;\">\n",
       "      <th></th>\n",
       "      <th>Property Type</th>\n",
       "      <th>Transaction Type</th>\n",
       "      <th>City</th>\n",
       "      <th>District</th>\n",
       "      <th>Price (Million VND)</th>\n",
       "      <th>Area (m2)</th>\n",
       "      <th>Direction</th>\n",
       "      <th>Floors</th>\n",
       "      <th>Rooms</th>\n",
       "      <th>Toilets</th>\n",
       "      <th>Legal Papers</th>\n",
       "    </tr>\n",
       "  </thead>\n",
       "  <tbody>\n",
       "    <tr>\n",
       "      <th>138</th>\n",
       "      <td>Căn hộ, chung cư</td>\n",
       "      <td>Cần bán</td>\n",
       "      <td>Hồ Chí Minh</td>\n",
       "      <td>Huyện Nhà Bè</td>\n",
       "      <td>4400.0</td>\n",
       "      <td>236.0</td>\n",
       "      <td>NaN</td>\n",
       "      <td>NaN</td>\n",
       "      <td>6.0</td>\n",
       "      <td>4.0</td>\n",
       "      <td>Đã có sổ</td>\n",
       "    </tr>\n",
       "  </tbody>\n",
       "</table>\n",
       "</div>"
      ],
      "text/plain": [
       "        Property Type Transaction Type         City      District  \\\n",
       "138  Căn hộ, chung cư          Cần bán  Hồ Chí Minh  Huyện Nhà Bè   \n",
       "\n",
       "     Price (Million VND)  Area (m2) Direction  Floors  Rooms  Toilets  \\\n",
       "138               4400.0      236.0       NaN     NaN    6.0      4.0   \n",
       "\n",
       "    Legal Papers  \n",
       "138     Đã có sổ  "
      ]
     },
     "execution_count": 117,
     "metadata": {},
     "output_type": "execute_result"
    }
   ],
   "source": [
    "df[df['Rooms'] == 6]"
   ]
  },
  {
   "cell_type": "code",
   "execution_count": 118,
   "id": "36c64e32",
   "metadata": {},
   "outputs": [
    {
     "data": {
      "application/vnd.microsoft.datawrangler.viewer.v0+json": {
       "columns": [
        {
         "name": "index",
         "rawType": "object",
         "type": "string"
        },
        {
         "name": "0",
         "rawType": "int64",
         "type": "integer"
        }
       ],
       "ref": "18394d9d-2a65-44f8-a835-2e228a69fb4c",
       "rows": [
        [
         "Property Type",
         "0"
        ],
        [
         "Transaction Type",
         "0"
        ],
        [
         "City",
         "0"
        ],
        [
         "District",
         "0"
        ],
        [
         "Price (Million VND)",
         "0"
        ],
        [
         "Area (m2)",
         "0"
        ],
        [
         "Direction",
         "11466"
        ],
        [
         "Floors",
         "31154"
        ],
        [
         "Rooms",
         "0"
        ],
        [
         "Toilets",
         "2419"
        ],
        [
         "Legal Papers",
         "14075"
        ]
       ],
       "shape": {
        "columns": 1,
        "rows": 11
       }
      },
      "text/plain": [
       "Property Type              0\n",
       "Transaction Type           0\n",
       "City                       0\n",
       "District                   0\n",
       "Price (Million VND)        0\n",
       "Area (m2)                  0\n",
       "Direction              11466\n",
       "Floors                 31154\n",
       "Rooms                      0\n",
       "Toilets                 2419\n",
       "Legal Papers           14075\n",
       "dtype: int64"
      ]
     },
     "execution_count": 118,
     "metadata": {},
     "output_type": "execute_result"
    }
   ],
   "source": [
    "df.isnull().sum()"
   ]
  },
  {
   "cell_type": "code",
   "execution_count": 119,
   "id": "4badb4eb",
   "metadata": {},
   "outputs": [],
   "source": [
    "df.drop(columns=['Floors'], inplace=True)"
   ]
  },
  {
   "cell_type": "code",
   "execution_count": 120,
   "id": "f5b47c3f",
   "metadata": {},
   "outputs": [
    {
     "data": {
      "application/vnd.microsoft.datawrangler.viewer.v0+json": {
       "columns": [
        {
         "name": "index",
         "rawType": "object",
         "type": "string"
        },
        {
         "name": "0",
         "rawType": "int64",
         "type": "integer"
        }
       ],
       "ref": "48e0c5cd-ec78-4091-a58e-ed6087297887",
       "rows": [
        [
         "Property Type",
         "0"
        ],
        [
         "Transaction Type",
         "0"
        ],
        [
         "City",
         "0"
        ],
        [
         "District",
         "0"
        ],
        [
         "Price (Million VND)",
         "0"
        ],
        [
         "Area (m2)",
         "0"
        ],
        [
         "Direction",
         "11466"
        ],
        [
         "Rooms",
         "0"
        ],
        [
         "Toilets",
         "2419"
        ],
        [
         "Legal Papers",
         "14075"
        ]
       ],
       "shape": {
        "columns": 1,
        "rows": 10
       }
      },
      "text/plain": [
       "Property Type              0\n",
       "Transaction Type           0\n",
       "City                       0\n",
       "District                   0\n",
       "Price (Million VND)        0\n",
       "Area (m2)                  0\n",
       "Direction              11466\n",
       "Rooms                      0\n",
       "Toilets                 2419\n",
       "Legal Papers           14075\n",
       "dtype: int64"
      ]
     },
     "execution_count": 120,
     "metadata": {},
     "output_type": "execute_result"
    }
   ],
   "source": [
    "df.isnull().sum() \n"
   ]
  },
  {
   "cell_type": "code",
   "execution_count": 121,
   "id": "12f125a8",
   "metadata": {},
   "outputs": [],
   "source": [
    "df['Toilets'] = df['Toilets'].fillna((df['Rooms'] // 2).fillna(1))\n",
    "\n"
   ]
  },
  {
   "cell_type": "code",
   "execution_count": 122,
   "id": "e257ce59",
   "metadata": {},
   "outputs": [
    {
     "data": {
      "application/vnd.microsoft.datawrangler.viewer.v0+json": {
       "columns": [
        {
         "name": "Toilets",
         "rawType": "float64",
         "type": "float"
        },
        {
         "name": "count",
         "rawType": "int64",
         "type": "integer"
        }
       ],
       "ref": "6653b59d-7307-4038-a655-2fa736af92ed",
       "rows": [
        [
         "1.0",
         "17009"
        ],
        [
         "2.0",
         "9782"
        ],
        [
         "3.0",
         "3868"
        ],
        [
         "0.0",
         "478"
        ],
        [
         "4.0",
         "12"
        ],
        [
         "5.0",
         "4"
        ],
        [
         "6.0",
         "1"
        ]
       ],
       "shape": {
        "columns": 1,
        "rows": 7
       }
      },
      "text/plain": [
       "Toilets\n",
       "1.0    17009\n",
       "2.0     9782\n",
       "3.0     3868\n",
       "0.0      478\n",
       "4.0       12\n",
       "5.0        4\n",
       "6.0        1\n",
       "Name: count, dtype: int64"
      ]
     },
     "execution_count": 122,
     "metadata": {},
     "output_type": "execute_result"
    }
   ],
   "source": [
    "df['Toilets'].value_counts()"
   ]
  },
  {
   "cell_type": "code",
   "execution_count": 123,
   "id": "53fd6f9d",
   "metadata": {},
   "outputs": [],
   "source": [
    "df['Toilets'] = df['Toilets'].replace(0, 1)"
   ]
  },
  {
   "cell_type": "code",
   "execution_count": 124,
   "id": "f1273464",
   "metadata": {},
   "outputs": [
    {
     "data": {
      "application/vnd.microsoft.datawrangler.viewer.v0+json": {
       "columns": [
        {
         "name": "Toilets",
         "rawType": "float64",
         "type": "float"
        },
        {
         "name": "count",
         "rawType": "int64",
         "type": "integer"
        }
       ],
       "ref": "240c7550-1ed8-4912-acee-b3dc66be9a9c",
       "rows": [
        [
         "1.0",
         "17487"
        ],
        [
         "2.0",
         "9782"
        ],
        [
         "3.0",
         "3868"
        ],
        [
         "4.0",
         "12"
        ],
        [
         "5.0",
         "4"
        ],
        [
         "6.0",
         "1"
        ]
       ],
       "shape": {
        "columns": 1,
        "rows": 6
       }
      },
      "text/plain": [
       "Toilets\n",
       "1.0    17487\n",
       "2.0     9782\n",
       "3.0     3868\n",
       "4.0       12\n",
       "5.0        4\n",
       "6.0        1\n",
       "Name: count, dtype: int64"
      ]
     },
     "execution_count": 124,
     "metadata": {},
     "output_type": "execute_result"
    }
   ],
   "source": [
    "df['Toilets'].value_counts()"
   ]
  },
  {
   "cell_type": "code",
   "execution_count": 125,
   "id": "3824cabd",
   "metadata": {},
   "outputs": [
    {
     "data": {
      "application/vnd.microsoft.datawrangler.viewer.v0+json": {
       "columns": [
        {
         "name": "index",
         "rawType": "object",
         "type": "string"
        },
        {
         "name": "0",
         "rawType": "int64",
         "type": "integer"
        }
       ],
       "ref": "327b85f8-57ed-410a-8d4a-a8daff621869",
       "rows": [
        [
         "Property Type",
         "0"
        ],
        [
         "Transaction Type",
         "0"
        ],
        [
         "City",
         "0"
        ],
        [
         "District",
         "0"
        ],
        [
         "Price (Million VND)",
         "0"
        ],
        [
         "Area (m2)",
         "0"
        ],
        [
         "Direction",
         "11466"
        ],
        [
         "Rooms",
         "0"
        ],
        [
         "Toilets",
         "0"
        ],
        [
         "Legal Papers",
         "14075"
        ]
       ],
       "shape": {
        "columns": 1,
        "rows": 10
       }
      },
      "text/plain": [
       "Property Type              0\n",
       "Transaction Type           0\n",
       "City                       0\n",
       "District                   0\n",
       "Price (Million VND)        0\n",
       "Area (m2)                  0\n",
       "Direction              11466\n",
       "Rooms                      0\n",
       "Toilets                    0\n",
       "Legal Papers           14075\n",
       "dtype: int64"
      ]
     },
     "execution_count": 125,
     "metadata": {},
     "output_type": "execute_result"
    }
   ],
   "source": [
    "df.isnull().sum()"
   ]
  },
  {
   "cell_type": "code",
   "execution_count": 126,
   "id": "549f0267",
   "metadata": {},
   "outputs": [],
   "source": [
    "df['Direction'] = df['Direction'].fillna('Null')\n",
    "df['Legal Papers'] = df['Legal Papers'].fillna('Giấy tờ khác')  \n"
   ]
  },
  {
   "cell_type": "code",
   "execution_count": 127,
   "id": "3a50c3a8",
   "metadata": {},
   "outputs": [
    {
     "data": {
      "application/vnd.microsoft.datawrangler.viewer.v0+json": {
       "columns": [
        {
         "name": "index",
         "rawType": "object",
         "type": "string"
        },
        {
         "name": "0",
         "rawType": "int64",
         "type": "integer"
        }
       ],
       "ref": "e8b79493-dcc2-4a66-931f-90906bf74522",
       "rows": [
        [
         "Property Type",
         "0"
        ],
        [
         "Transaction Type",
         "0"
        ],
        [
         "City",
         "0"
        ],
        [
         "District",
         "0"
        ],
        [
         "Price (Million VND)",
         "0"
        ],
        [
         "Area (m2)",
         "0"
        ],
        [
         "Direction",
         "0"
        ],
        [
         "Rooms",
         "0"
        ],
        [
         "Toilets",
         "0"
        ],
        [
         "Legal Papers",
         "0"
        ]
       ],
       "shape": {
        "columns": 1,
        "rows": 10
       }
      },
      "text/plain": [
       "Property Type          0\n",
       "Transaction Type       0\n",
       "City                   0\n",
       "District               0\n",
       "Price (Million VND)    0\n",
       "Area (m2)              0\n",
       "Direction              0\n",
       "Rooms                  0\n",
       "Toilets                0\n",
       "Legal Papers           0\n",
       "dtype: int64"
      ]
     },
     "execution_count": 127,
     "metadata": {},
     "output_type": "execute_result"
    }
   ],
   "source": [
    "df.isnull().sum()"
   ]
  },
  {
   "cell_type": "markdown",
   "id": "7af1492b",
   "metadata": {},
   "source": [
    "# SAVING DATA"
   ]
  },
  {
   "cell_type": "code",
   "execution_count": 128,
   "id": "e326df5c",
   "metadata": {},
   "outputs": [],
   "source": [
    "# saving the dataframe\n",
    "df.to_csv(r'Complete_dataset/HCM_house_price.csv')"
   ]
  },
  {
   "cell_type": "markdown",
   "id": "676afea6",
   "metadata": {},
   "source": [
    "## Machine Learning"
   ]
  },
  {
   "cell_type": "markdown",
   "id": "0f706490",
   "metadata": {},
   "source": [
    "## Plan : \n",
    "\n",
    "- LinearRegression → baseline, dễ hiểu, giải thích được.\n",
    "- HistGradientBoostingRegressor (HGBR) → phiên bản tối ưu hơn GradientBoosting trong sklearn, chạy nhanh và hiệu quả trên dữ liệu lớn.\n",
    "- LGBMRegressor → mạnh mẽ, thường outperform HGBR trong nhiều bài toán tabular.\n",
    "- ====================================\n",
    "- Linear Regression, Ridge (baseline hồi quy)\n",
    "- Random Forest, GradientBoosting, LGBM, HistGradientBoosting (cây mạnh)\n",
    "- MLPRegressor hoặc SVR (đại diện nhóm khác)"
   ]
  },
  {
   "cell_type": "markdown",
   "id": "93dd55f2",
   "metadata": {},
   "source": [
    "Ý nghĩa các cột trong bảng:\n",
    "\n",
    "Model: Tên thuật toán.\n",
    "\n",
    "Adjusted R-Squared, R-Squared: Độ đo chất lượng fit (càng cao càng tốt, gần 1).\n",
    "\n",
    "RMSE: Sai số trung bình căn bậc 2 (càng thấp càng tốt).\n",
    "\n",
    "Time Taken: Thời gian huấn luyện (giây)."
   ]
  },
  {
   "cell_type": "code",
   "execution_count": 37,
   "id": "84677505",
   "metadata": {},
   "outputs": [],
   "source": [
    "from sklearn.pipeline import Pipeline\n",
    "from sklearn.impute import SimpleImputer\n",
    "from sklearn.preprocessing import StandardScaler, OneHotEncoder\n",
    "from sklearn.compose import ColumnTransformer\n",
    "from lazypredict.Supervised import LazyRegressor"
   ]
  }
 ],
 "metadata": {
  "kernelspec": {
   "display_name": ".venv (3.11.5)",
   "language": "python",
   "name": "python3"
  },
  "language_info": {
   "codemirror_mode": {
    "name": "ipython",
    "version": 3
   },
   "file_extension": ".py",
   "mimetype": "text/x-python",
   "name": "python",
   "nbconvert_exporter": "python",
   "pygments_lexer": "ipython3",
   "version": "3.11.5"
  }
 },
 "nbformat": 4,
 "nbformat_minor": 5
}
