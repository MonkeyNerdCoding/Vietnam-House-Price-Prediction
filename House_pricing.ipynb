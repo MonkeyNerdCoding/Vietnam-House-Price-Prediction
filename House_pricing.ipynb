{
 "cells": [
  {
   "cell_type": "markdown",
   "id": "6e2b2531",
   "metadata": {},
   "source": [
    "# Download Dataset"
   ]
  },
  {
   "cell_type": "code",
   "execution_count": null,
   "id": "e8a88ca4",
   "metadata": {
    "vscode": {
     "languageId": "plaintext"
    }
   },
   "outputs": [],
   "source": []
  }
 ],
 "metadata": {
  "language_info": {
   "name": "python"
  }
 },
 "nbformat": 4,
 "nbformat_minor": 5
}
